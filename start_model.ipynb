{
 "cells": [
  {
   "cell_type": "code",
   "execution_count": 2,
   "id": "46407a60",
   "metadata": {},
   "outputs": [
    {
     "name": "stdout",
     "output_type": "stream",
     "text": [
      "    Failure_Probability  Prediction Risk_Level\n",
      "0              0.000035           0        Low\n",
      "1              0.001068           0       High\n",
      "2              0.000814           0       High\n",
      "3              0.000055           0        Low\n",
      "4              0.000060           0     Medium\n",
      "5              0.000052           0        Low\n",
      "6              0.000001           0        Low\n",
      "7              0.000051           0        Low\n",
      "8              0.000395           0     Medium\n",
      "9              0.001284           0       High\n",
      "10             0.012743           0       High\n",
      "11             0.003491           0       High\n",
      "12             0.000102           0     Medium\n",
      "13             0.000143           0     Medium\n",
      "14             0.000059           0     Medium\n"
     ]
    }
   ],
   "source": [
    "import joblib\n",
    "import pandas as pd\n",
    "\n",
    "model = joblib.load(\"xgb_model.pkl\")\n",
    "\n",
    "# Load new machine data (must be preprocessed like training data)\n",
    "new_data = pd.read_csv(\"incoming_machine_data.csv\")\n",
    "\n",
    "# Clean column names like before (very important)\n",
    "def clean_column_names(df):\n",
    "    df = df.copy()\n",
    "    df.columns = (\n",
    "        df.columns.str.replace('[\\[\\]<>]', '', regex=True)\n",
    "                  .str.replace(' ', '_')\n",
    "    )\n",
    "    return df\n",
    "\n",
    "new_data_clean = clean_column_names(new_data)\n",
    "\n",
    "# Predict probabilities\n",
    "probs = model.predict_proba(new_data_clean)\n",
    "\n",
    "# Assign risk levels\n",
    "df_results = pd.DataFrame({\n",
    "    'Failure_Probability': probs[:, 1],\n",
    "    'Prediction': model.predict(new_data_clean)\n",
    "})\n",
    "df_results['Risk_Level'] = pd.qcut(\n",
    "    df_results['Failure_Probability'],\n",
    "    q=3,\n",
    "    labels=['Low', 'Medium', 'High']\n",
    ")\n",
    "\n",
    "print(df_results)\n"
   ]
  }
 ],
 "metadata": {
  "kernelspec": {
   "display_name": "Python 3",
   "language": "python",
   "name": "python3"
  },
  "language_info": {
   "codemirror_mode": {
    "name": "ipython",
    "version": 3
   },
   "file_extension": ".py",
   "mimetype": "text/x-python",
   "name": "python",
   "nbconvert_exporter": "python",
   "pygments_lexer": "ipython3",
   "version": "3.10.0"
  }
 },
 "nbformat": 4,
 "nbformat_minor": 5
}
